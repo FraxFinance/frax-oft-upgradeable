{
 "cells": [
  {
   "cell_type": "code",
   "execution_count": null,
   "id": "f31e570e",
   "metadata": {},
   "outputs": [],
   "source": [
    "import pandas as pd\n",
    "import os\n",
    "\n",
    "df = pd.read_json(f\"{os.getcwd()}/../config-FPI.json\")['FPI']"
   ]
  },
  {
   "cell_type": "code",
   "execution_count": 2,
   "id": "2895daf2",
   "metadata": {},
   "outputs": [
    {
     "name": "stdout",
     "output_type": "stream",
     "text": [
      "Each chain maintains a single executor.\n",
      "Each chain maintains a single receive library.\n",
      "Each chain maintains a single send library.\n"
     ]
    }
   ],
   "source": [
    "sameExecutor = True\n",
    "sameReceiveLibrary = True\n",
    "sameSendLibrary = True\n",
    "\n",
    "for src in df.keys():\n",
    "    dsts = list(df[src].keys())\n",
    "    \n",
    "    executor = df[src][dsts[0]]['executorConfig']['executorAddress']\n",
    "    receiveLibrary = df[src][dsts[0]]['receiveLibrary']['receiveLibraryAddress']\n",
    "    sendLibrary = df[src][dsts[0]]['sendLibrary']\n",
    "\n",
    "    for dst in dsts[1:]:\n",
    "        if executor != df[src][dst]['executorConfig']['executorAddress']:\n",
    "            sameExecutor = False\n",
    "        \n",
    "        if receiveLibrary != df[src][dst]['receiveLibrary']['receiveLibraryAddress']:\n",
    "            sameReceiveLibrary = False\n",
    "\n",
    "        if sendLibrary != df[src][dst]['sendLibrary']:\n",
    "            sameSendLibrary = False\n",
    "\n",
    "if sameExecutor:\n",
    "    print(\"Each chain maintains a single executor.\")\n",
    "else:\n",
    "    print(\"Executor parity broken.\")\n",
    "\n",
    "if sameReceiveLibrary:\n",
    "    print(\"Each chain maintains a single receive library.\")\n",
    "else:\n",
    "    print(\"Receive library parity broken.\")\n",
    "\n",
    "if sameSendLibrary:\n",
    "    print(\"Each chain maintains a single send library.\")\n",
    "else:\n",
    "    print(\"Send library parity broken.\")"
   ]
  },
  {
   "cell_type": "code",
   "execution_count": 3,
   "id": "cd642096",
   "metadata": {},
   "outputs": [
    {
     "name": "stdout",
     "output_type": "stream",
     "text": [
      "Max message size\n",
      "----------------\n",
      "fraxtal: 10,000\n",
      "ethereum: 10,000\n",
      "base: 10,000\n",
      "blast: 10,000\n",
      "mode: 10,000\n",
      "sei: 10,000\n",
      "xlayer: 10,000\n",
      "sonic: 10,000\n",
      "ink: 10,000\n",
      "arbitrum: 10,000\n",
      "optimism: 10,000\n",
      "polygon: 10,000\n",
      "avalanche: 10,000\n",
      "bnb: 10,000\n",
      "zkevm: 10,000\n",
      "zksync: 10,000\n",
      "abstract: 10,000\n",
      "berachain: 10,000\n",
      "linea: 10,000\n"
     ]
    }
   ],
   "source": [
    "print(\"Max message size\")\n",
    "print(\"----------------\")\n",
    "print(f\"fraxtal: {df['ethereum']['fraxtal']['defaultExecutorConfig']['maxMessageSize']:,}\")\n",
    "for key in df['fraxtal']:\n",
    "    print(f\"{key}: {df['fraxtal'][key]['defaultExecutorConfig']['maxMessageSize']:,}\")"
   ]
  },
  {
   "cell_type": "code",
   "execution_count": 4,
   "id": "c9d2f1e3",
   "metadata": {},
   "outputs": [
    {
     "name": "stdout",
     "output_type": "stream",
     "text": [
      "Gas Amount forwarded on send txs\n",
      "--------------------------------\n",
      "fraxtal: 200,000\n",
      "ethereum: 200,000\n",
      "base: 200,000\n",
      "blast: 200,000\n",
      "mode: 200,000\n",
      "sei: 200,000\n",
      "xlayer: 200,000\n",
      "sonic: 200,000\n",
      "ink: 200,000\n",
      "arbitrum: 200,000\n",
      "optimism: 200,000\n",
      "polygon: 200,000\n",
      "avalanche: 200,000\n",
      "bnb: 200,000\n",
      "zkevm: 200,000\n",
      "zksync: 200,000\n",
      "abstract: 200,000\n",
      "berachain: 200,000\n",
      "linea: 200,000\n"
     ]
    }
   ],
   "source": [
    "print(\"Gas Amount forwarded on send txs\")\n",
    "print(\"--------------------------------\")\n",
    "print(f\"fraxtal: {int(df['ethereum']['fraxtal']['combinedOptionsSend']['gas']):,}\")\n",
    "for key in df['fraxtal']:\n",
    "    print(f\"{key}: {int(df['fraxtal'][key]['combinedOptionsSend']['gas']):,}\")"
   ]
  },
  {
   "cell_type": "code",
   "execution_count": 5,
   "id": "5e7639df",
   "metadata": {},
   "outputs": [
    {
     "name": "stdout",
     "output_type": "stream",
     "text": [
      "Confirmations required per chain\n",
      "--------------------------------\n",
      "fraxtal: 5\n",
      "ethereum: 15\n",
      "base: 10\n",
      "blast: 5\n",
      "mode: 5\n",
      "sei: 5\n",
      "xlayer: 225,000\n",
      "sonic: 20\n",
      "ink: 20\n",
      "arbitrum: 20\n",
      "optimism: 20\n",
      "polygon: 512\n",
      "avalanche: 12\n",
      "bnb: 20\n",
      "zkevm: 225,000\n",
      "zksync: 20\n",
      "abstract: 20\n",
      "berachain: 20\n",
      "linea: 10\n"
     ]
    }
   ],
   "source": [
    "print(\"Confirmations required per chain\")\n",
    "print(\"--------------------------------\")\n",
    "print(f\"fraxtal: {df['ethereum']['fraxtal']['ulnConfig']['receive']['confirmations']}\")\n",
    "for key in df['fraxtal']:\n",
    "    print(f\"{key}: {df['fraxtal'][key]['ulnConfig']['receive']['confirmations']:,}\")"
   ]
  },
  {
   "cell_type": "code",
   "execution_count": 6,
   "id": "d5ec5e10",
   "metadata": {},
   "outputs": [
    {
     "name": "stdout",
     "output_type": "stream",
     "text": [
      "The following chains use the default Send Library and need to be set.\n",
      "src: mode, dst: sei\n",
      "src: mode, dst: xlayer\n",
      "src: mode, dst: sonic\n",
      "src: mode, dst: ink\n",
      "src: mode, dst: arbitrum\n",
      "src: mode, dst: optimism\n",
      "src: mode, dst: polygon\n",
      "src: mode, dst: avalanche\n",
      "src: mode, dst: bnb\n",
      "src: mode, dst: zkevm\n",
      "src: sei, dst: mode\n",
      "src: sei, dst: xlayer\n",
      "src: sei, dst: sonic\n",
      "src: sei, dst: ink\n",
      "src: sei, dst: arbitrum\n",
      "src: sei, dst: optimism\n",
      "src: sei, dst: polygon\n",
      "src: sei, dst: avalanche\n",
      "src: sei, dst: bnb\n",
      "src: sei, dst: zkevm\n",
      "src: xlayer, dst: mode\n",
      "src: xlayer, dst: sei\n",
      "src: xlayer, dst: sonic\n",
      "src: xlayer, dst: ink\n",
      "src: xlayer, dst: arbitrum\n",
      "src: xlayer, dst: optimism\n",
      "src: xlayer, dst: polygon\n",
      "src: xlayer, dst: avalanche\n",
      "src: xlayer, dst: bnb\n",
      "src: xlayer, dst: zkevm\n",
      "src: sonic, dst: arbitrum\n",
      "src: sonic, dst: optimism\n",
      "src: sonic, dst: polygon\n",
      "src: sonic, dst: avalanche\n",
      "src: sonic, dst: bnb\n",
      "src: sonic, dst: zkevm\n",
      "src: ink, dst: sonic\n",
      "src: ink, dst: arbitrum\n",
      "src: ink, dst: optimism\n",
      "src: ink, dst: polygon\n",
      "src: ink, dst: avalanche\n",
      "src: ink, dst: bnb\n",
      "src: ink, dst: zkevm\n",
      "src: arbitrum, dst: optimism\n",
      "src: arbitrum, dst: polygon\n",
      "src: arbitrum, dst: avalanche\n",
      "src: arbitrum, dst: bnb\n",
      "src: arbitrum, dst: zkevm\n",
      "src: optimism, dst: polygon\n",
      "src: optimism, dst: avalanche\n",
      "src: optimism, dst: bnb\n",
      "src: optimism, dst: zkevm\n",
      "src: polygon, dst: avalanche\n",
      "src: polygon, dst: bnb\n",
      "src: polygon, dst: zkevm\n",
      "src: avalanche, dst: bnb\n",
      "src: avalanche, dst: zkevm\n",
      "src: bnb, dst: zkevm\n"
     ]
    }
   ],
   "source": [
    "print(\"The following chains use the default Send Library and need to be set.\")\n",
    "for src in df.keys():\n",
    "    for dst in df[src].keys():\n",
    "        if df[src][dst]['isDefaultSendLibrary']:\n",
    "            print(f\"src: {src}, dst: {dst}\")"
   ]
  },
  {
   "cell_type": "code",
   "execution_count": 7,
   "id": "d7aa834f",
   "metadata": {},
   "outputs": [
    {
     "name": "stdout",
     "output_type": "stream",
     "text": [
      "The following chains use the default Receive Library and need to be set\n",
      "src: mode, dst: sei\n",
      "src: mode, dst: xlayer\n",
      "src: mode, dst: sonic\n",
      "src: mode, dst: ink\n",
      "src: mode, dst: arbitrum\n",
      "src: mode, dst: optimism\n",
      "src: mode, dst: polygon\n",
      "src: mode, dst: avalanche\n",
      "src: mode, dst: bnb\n",
      "src: mode, dst: zkevm\n",
      "src: sei, dst: mode\n",
      "src: sei, dst: xlayer\n",
      "src: sei, dst: sonic\n",
      "src: sei, dst: ink\n",
      "src: sei, dst: arbitrum\n",
      "src: sei, dst: optimism\n",
      "src: sei, dst: polygon\n",
      "src: sei, dst: avalanche\n",
      "src: sei, dst: bnb\n",
      "src: sei, dst: zkevm\n",
      "src: xlayer, dst: mode\n",
      "src: xlayer, dst: sei\n",
      "src: xlayer, dst: sonic\n",
      "src: xlayer, dst: ink\n",
      "src: xlayer, dst: arbitrum\n",
      "src: xlayer, dst: optimism\n",
      "src: xlayer, dst: polygon\n",
      "src: xlayer, dst: avalanche\n",
      "src: xlayer, dst: bnb\n",
      "src: xlayer, dst: zkevm\n",
      "src: sonic, dst: arbitrum\n",
      "src: sonic, dst: optimism\n",
      "src: sonic, dst: polygon\n",
      "src: sonic, dst: avalanche\n",
      "src: sonic, dst: bnb\n",
      "src: sonic, dst: zkevm\n",
      "src: ink, dst: sonic\n",
      "src: ink, dst: arbitrum\n",
      "src: ink, dst: optimism\n",
      "src: ink, dst: polygon\n",
      "src: ink, dst: avalanche\n",
      "src: ink, dst: bnb\n",
      "src: ink, dst: zkevm\n",
      "src: arbitrum, dst: optimism\n",
      "src: arbitrum, dst: polygon\n",
      "src: arbitrum, dst: avalanche\n",
      "src: arbitrum, dst: bnb\n",
      "src: arbitrum, dst: zkevm\n",
      "src: optimism, dst: polygon\n",
      "src: optimism, dst: avalanche\n",
      "src: optimism, dst: bnb\n",
      "src: optimism, dst: zkevm\n",
      "src: polygon, dst: avalanche\n",
      "src: polygon, dst: bnb\n",
      "src: polygon, dst: zkevm\n",
      "src: avalanche, dst: bnb\n",
      "src: avalanche, dst: zkevm\n",
      "src: bnb, dst: zkevm\n"
     ]
    }
   ],
   "source": [
    "print(\"The following chains use the default Receive Library and need to be set\")\n",
    "for src in df.keys():\n",
    "    for dst in df[src].keys():\n",
    "        if df[src][dst]['receiveLibrary']['isDefault']:\n",
    "            print(f\"src: {src}, dst: {dst}\")"
   ]
  }
 ],
 "metadata": {
  "kernelspec": {
   "display_name": "Python 3",
   "language": "python",
   "name": "python3"
  },
  "language_info": {
   "codemirror_mode": {
    "name": "ipython",
    "version": 3
   },
   "file_extension": ".py",
   "mimetype": "text/x-python",
   "name": "python",
   "nbconvert_exporter": "python",
   "pygments_lexer": "ipython3",
   "version": "3.12.3"
  }
 },
 "nbformat": 4,
 "nbformat_minor": 5
}
